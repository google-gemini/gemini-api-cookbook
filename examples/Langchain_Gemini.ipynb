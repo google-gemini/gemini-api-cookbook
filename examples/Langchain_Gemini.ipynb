{
  "cells": [
    {
      "cell_type": "markdown",
      "metadata": {
        "id": "kPohBj-rA5D1"
      },
      "source": [
        "# Gemini + Langchain\n",
        "\n",
        "[Hemanth HM](https://h3manth.com)"
      ]
    },
    {
      "cell_type": "markdown",
      "metadata": {
        "id": "rPwyzpb5A_LH"
      },
      "source": [
        "# Install Deps"
      ]
    },
    {
      "cell_type": "code",
      "execution_count": 27,
      "metadata": {
        "id": "9z5YW-fppUrQ"
      },
      "outputs": [],
      "source": [
        "!pip install -q -U langchain\n",
        "!pip install --quiet langchain-google-genai"
      ]
    },
    {
      "cell_type": "markdown",
      "metadata": {
        "id": "rK5OslJdBSTI"
      },
      "source": [
        "## Helper Functions"
      ]
    },
    {
      "cell_type": "code",
      "execution_count": 9,
      "metadata": {
        "id": "GIe0Ywo_BUm4"
      },
      "outputs": [],
      "source": [
        "import pathlib\n",
        "import textwrap\n",
        "\n",
        "\n",
        "from IPython.display import display\n",
        "from IPython.display import Markdown\n",
        "\n",
        "\n",
        "def to_markdown(text):\n",
        "  text = text.replace('•', '  *')\n",
        "  return Markdown(textwrap.indent(text, '> ', predicate=lambda _: True))"
      ]
    },
    {
      "cell_type": "markdown",
      "metadata": {
        "id": "I4VR8cE4A45a"
      },
      "source": [
        "## Set up the Keys"
      ]
    },
    {
      "cell_type": "code",
      "execution_count": 28,
      "metadata": {
        "id": "1L6nJQeLBzDK"
      },
      "outputs": [],
      "source": [
        "from google.colab import userdata\n",
        "import os\n",
        "GOOGLE_API_KEY = userdata.get('GOOGLE_API_KEY')\n",
        "os.environ[\"GOOGLE_API_KEY\"] = GOOGLE_API_KEY"
      ]
    },
    {
      "cell_type": "markdown",
      "metadata": {
        "id": "BGYcZ1N5qHzJ"
      },
      "source": [
        "## *Instantiate* gemini-pro\n",
        "\n"
      ]
    },
    {
      "cell_type": "code",
      "execution_count": 29,
      "metadata": {
        "id": "tRfXSEHSpY65"
      },
      "outputs": [],
      "source": [
        "from langchain_google_genai import ChatGoogleGenerativeAI\n",
        "llm = ChatGoogleGenerativeAI(model=\"gemini-pro\")"
      ]
    },
    {
      "cell_type": "markdown",
      "metadata": {
        "id": "SYNbAmsXqMJM"
      },
      "source": [
        "# Predict"
      ]
    },
    {
      "cell_type": "code",
      "execution_count": 35,
      "metadata": {
        "colab": {
          "base_uri": "https://localhost:8080/",
          "height": 291
        },
        "id": "spLSkovxp4_y",
        "outputId": "49ac6f1b-0227-4400-803b-3be9dd248029"
      },
      "outputs": [
        {
          "name": "stdout",
          "output_type": "stream",
          "text": [
            "content='* **The Green Haven**\\n* **Veggie Vibes**\\n* **Plant-Based Paradise**\\n* **Nourish & Flourish**\\n* **The Root to Goodness**\\n* **Leafy Luxe**\\n* **Edible Eden**\\n* **Wholesome Harvest**\\n* **The Vegan Vault**\\n* **The Herbarium**\\n* **The Botanical Bistro**\\n* **Green Goddess**' response_metadata={'finish_reason': 'STOP', 'safety_ratings': [{'category': 'HARM_CATEGORY_SEXUALLY_EXPLICIT', 'probability': 'NEGLIGIBLE', 'blocked': False}, {'category': 'HARM_CATEGORY_HATE_SPEECH', 'probability': 'NEGLIGIBLE', 'blocked': False}, {'category': 'HARM_CATEGORY_HARASSMENT', 'probability': 'NEGLIGIBLE', 'blocked': False}, {'category': 'HARM_CATEGORY_DANGEROUS_CONTENT', 'probability': 'NEGLIGIBLE', 'blocked': False}]}\n"
          ]
        },
        {
          "data": {
            "text/markdown": [
              "> * **The Green Haven**\n",
              "> * **Veggie Vibes**\n",
              "> * **Plant-Based Paradise**\n",
              "> * **Nourish & Flourish**\n",
              "> * **The Root to Goodness**\n",
              "> * **Leafy Luxe**\n",
              "> * **Edible Eden**\n",
              "> * **Wholesome Harvest**\n",
              "> * **The Vegan Vault**\n",
              "> * **The Herbarium**\n",
              "> * **The Botanical Bistro**\n",
              "> * **Green Goddess**"
            ],
            "text/plain": [
              "<IPython.core.display.Markdown object>"
            ]
          },
          "execution_count": 35,
          "metadata": {},
          "output_type": "execute_result"
        }
      ],
      "source": [
        "response = llm.invoke(\"Give me few names for a new vegan resturant\")\n",
        "to_markdown(response.content)"
      ]
    },
    {
      "cell_type": "markdown",
      "metadata": {
        "id": "3ETKmwSiqS91"
      },
      "source": [
        "# Prompt Templates"
      ]
    },
    {
      "cell_type": "code",
      "execution_count": 36,
      "metadata": {
        "id": "STnLztGIqAOX"
      },
      "outputs": [],
      "source": [
        "from langchain import PromptTemplate"
      ]
    },
    {
      "cell_type": "code",
      "execution_count": 37,
      "metadata": {
        "id": "ffgZKpuRq6Ks"
      },
      "outputs": [],
      "source": [
        "veganCook = PromptTemplate.from_template(\"\"\"\n",
        "I require someone who can suggest delicious vegan recipes that includes foods which are nutritionally\n",
        "beneficial but also easy & not time consuming enough therefore suitable for busy people\n",
        "like us among other factors such as cost effectiveness so overall dish ends up being healthy\n",
        "yet economical at same time! Avoid the {foodAllergy} ingredients\"\"\")"
      ]
    },
    {
      "cell_type": "code",
      "execution_count": 38,
      "metadata": {
        "colab": {
          "base_uri": "https://localhost:8080/"
        },
        "id": "vMEO6pAbq-7k",
        "outputId": "12353432-4957-4fce-cd26-f2d88da30912"
      },
      "outputs": [
        {
          "name": "stdout",
          "output_type": "stream",
          "text": [
            "\n",
            "I require someone who can suggest delicious vegan recipes that includes foods which are nutritionally\n",
            "beneficial but also easy & not time consuming enough therefore suitable for busy people\n",
            "like us among other factors such as cost effectiveness so overall dish ends up being healthy\n",
            "yet economical at same time! Avoid the soy, mushrooms ingredients\n"
          ]
        }
      ],
      "source": [
        "prompt = veganCook.format(foodAllergy=\"soy, mushrooms\")\n",
        "print(prompt)"
      ]
    },
    {
      "cell_type": "code",
      "execution_count": 39,
      "metadata": {
        "colab": {
          "base_uri": "https://localhost:8080/",
          "height": 1000
        },
        "id": "4YEqHjDJrvLP",
        "outputId": "ddd22810-0716-48ac-8105-5ed232b962ac"
      },
      "outputs": [
        {
          "data": {
            "text/markdown": [
              "> **Quinoa Black Bean Burrito Bowls**\n",
              "> \n",
              "> * **Ingredients:**\n",
              ">     * 1 cup cooked quinoa\n",
              ">     * 1 can (15 oz) black beans, rinsed and drained\n",
              ">     * 1/2 cup chopped bell pepper\n",
              ">     * 1/4 cup chopped onion\n",
              ">     * 1/4 cup chopped avocado\n",
              ">     * 1/4 cup chopped cilantro\n",
              ">     * 1/4 cup salsa\n",
              ">     * 1 tablespoon lime juice\n",
              ">     * Salt and pepper to taste\n",
              "> \n",
              "> * **Instructions:**\n",
              ">     1. Combine quinoa, black beans, bell pepper, onion, avocado, cilantro, salsa, and lime juice in a bowl.\n",
              ">     2. Season with salt and pepper to taste.\n",
              ">     3. Serve in bowls and enjoy!\n",
              "> \n",
              "> **Lentil Shepherd's Pie**\n",
              "> \n",
              "> * **Ingredients:**\n",
              ">     * 1 cup dried brown lentils\n",
              ">     * 1 onion, chopped\n",
              ">     * 2 cloves garlic, minced\n",
              ">     * 1 cup chopped carrots\n",
              ">     * 1 cup chopped celery\n",
              ">     * 1 can (14.5 oz) diced tomatoes\n",
              ">     * 1 cup vegetable broth\n",
              ">     * 1/2 cup mashed potatoes (can use instant potatoes)\n",
              ">     * Salt and pepper to taste\n",
              "> \n",
              "> * **Instructions:**\n",
              ">     1. Rinse lentils and cook according to package directions.\n",
              ">     2. While lentils are cooking, sauté onion, garlic, carrots, and celery in a skillet.\n",
              ">     3. Add tomatoes and vegetable broth to skillet and simmer for 15 minutes.\n",
              ">     4. Drain lentils and mash slightly.\n",
              ">     5. Spread lentils in a baking dish and top with sautéed vegetables.\n",
              ">     6. Spread mashed potatoes on top.\n",
              ">     7. Bake at 350°F for 20-25 minutes, or until potatoes are golden brown.\n",
              "> \n",
              "> **Broccoli and Sweet Potato Soup**\n",
              "> \n",
              "> * **Ingredients:**\n",
              ">     * 1 head of broccoli, chopped\n",
              ">     * 1 large sweet potato, peeled and cubed\n",
              ">     * 1 onion, chopped\n",
              ">     * 2 cloves garlic, minced\n",
              ">     * 4 cups vegetable broth\n",
              ">     * Salt and pepper to taste\n",
              ">     * Optional: Coconut milk or vegan cream for garnish\n",
              "> \n",
              "> * **Instructions:**\n",
              ">     1. Sauté onion and garlic in a large pot.\n",
              ">     2. Add broccoli, sweet potato, and vegetable broth.\n",
              ">     3. Bring to a boil, then reduce heat and simmer for 15-20 minutes, or until vegetables are tender.\n",
              ">     4. Puree soup with an immersion blender or in a regular blender.\n",
              ">     5. Season with salt and pepper to taste.\n",
              ">     6. Garnish with coconut milk or vegan cream, if desired.\n",
              "> \n",
              "> **Chickpea and Spinach Curry**\n",
              "> \n",
              "> * **Ingredients:**\n",
              ">     * 1 can (15 oz) chickpeas, rinsed and drained\n",
              ">     * 1 bunch spinach, chopped\n",
              ">     * 1 onion, chopped\n",
              ">     * 2 cloves garlic, minced\n",
              ">     * 1 tablespoon curry powder\n",
              ">     * 1 teaspoon ground cumin\n",
              ">     * 1/2 teaspoon ground turmeric\n",
              ">     * 1 can (14.5 oz) diced tomatoes\n",
              ">     * 1 cup vegetable broth\n",
              ">     * Salt and pepper to taste\n",
              "> \n",
              "> * **Instructions:**\n",
              ">     1. Sauté onion and garlic in a large skillet.\n",
              ">     2. Add curry powder, cumin, and turmeric and cook for 1 minute.\n",
              ">     3. Add tomatoes, vegetable broth, chickpeas, and spinach.\n",
              ">     4. Bring to a boil, then reduce heat and simmer for 15-20 minutes, or until spinach is wilted.\n",
              ">     5. Season with salt and pepper to taste."
            ],
            "text/plain": [
              "<IPython.core.display.Markdown object>"
            ]
          },
          "execution_count": 39,
          "metadata": {},
          "output_type": "execute_result"
        }
      ],
      "source": [
        "to_markdown(llm.invoke(prompt).content)"
      ]
    },
    {
      "cell_type": "markdown",
      "metadata": {
        "id": "MFsUELXNr8Rx"
      },
      "source": [
        "# Chain\n",
        ">A chain consists of links, which can be primitives or other chains, and primitives can be prompts, llms, utils, or other chains."
      ]
    },
    {
      "cell_type": "code",
      "execution_count": 40,
      "metadata": {
        "id": "aNxZJHr6sEJy"
      },
      "outputs": [],
      "source": [
        "from langchain.chains import LLMChain"
      ]
    },
    {
      "cell_type": "code",
      "execution_count": 41,
      "metadata": {
        "id": "7Gp2yykE6JQf"
      },
      "outputs": [],
      "source": [
        "chain = LLMChain(llm=llm, prompt=veganCook)"
      ]
    },
    {
      "cell_type": "code",
      "execution_count": 43,
      "metadata": {
        "colab": {
          "base_uri": "https://localhost:8080/",
          "height": 533
        },
        "id": "DDv4WJHMsKtC",
        "outputId": "e0f52c72-ea42-4fa8-db42-2a096dcf6041"
      },
      "outputs": [
        {
          "data": {
            "text/markdown": [
              "> **Breakfast**\n",
              "> \n",
              "> * **Overnight Oats with Berries and Nuts (10 minutes to prepare):** Combine rolled oats, plant-based milk, chia seeds, berries, and nuts in a jar. Refrigerate overnight for a protein-packed breakfast.\n",
              "> * **Fruit and Veggie Smoothie (5 minutes to blend):** Blend together frozen fruit (berries, bananas), spinach, plant-based yogurt, and almond milk for a nutrient-rich and refreshing start to your day.\n",
              "> \n",
              "> **Lunch**\n",
              "> \n",
              "> * **Lentil Soup (30 minutes to cook):** Sauté onions and garlic, add lentils, vegetable broth, and spices. Simmer until lentils are tender. Top with fresh herbs and a squeeze of lemon juice.\n",
              "> * **Quinoa Salad with Roasted Vegetables (30 minutes to roast and assemble):** Roast vegetables (such as broccoli, carrots, onions) with olive oil and spices. Combine with cooked quinoa, chickpeas, and a simple dressing of olive oil, lemon juice, and herbs.\n",
              "> \n",
              "> **Dinner**\n",
              "> \n",
              "> * **Vegan Tacos (20 minutes to assemble):** Fill corn tortillas with sautéed vegetables (such as bell peppers, onions, zucchini), beans, and your favorite vegan salsa. Top with avocado and cilantro.\n",
              "> * **Vegetable Stir-Fry (15 minutes to cook):** Stir-fry your favorite vegetables (such as broccoli, carrots, snap peas) in a hot skillet with olive oil and seasonings. Serve over brown rice or quinoa.\n",
              "> \n",
              "> **Snacks**\n",
              "> \n",
              "> * **Apple with Peanut Butter (5 minutes to prepare):** A classic and satisfying snack that provides fiber, protein, and healthy fats.\n",
              "> * **Hummus with Veggie Sticks (10 minutes to prepare):** Blend cooked chickpeas with olive oil, tahini, lemon juice, and spices. Serve with carrot, celery, or cucumber sticks for dipping.\n",
              "> \n",
              "> **Tips for Cost-Effectiveness:**\n",
              "> \n",
              "> * Buy fruits and vegetables in season when they're at their peak and most affordable.\n",
              "> * Look for sales and discounts on plant-based products.\n",
              "> * Cook in bulk and freeze leftovers for future meals.\n",
              "> * Use beans, lentils, and tofu as inexpensive sources of protein.\n",
              "> * Choose whole grains over refined grains for increased fiber and nutrients."
            ],
            "text/plain": [
              "<IPython.core.display.Markdown object>"
            ]
          },
          "execution_count": 43,
          "metadata": {},
          "output_type": "execute_result"
        }
      ],
      "source": [
        "to_markdown(chain.run(\"soy, mushrooms\"))"
      ]
    },
    {
      "cell_type": "code",
      "execution_count": 44,
      "metadata": {
        "colab": {
          "base_uri": "https://localhost:8080/"
        },
        "id": "uD3frP1cs0pH",
        "outputId": "b0e77d2b-492c-4e5b-fe21-d89655ebcae8"
      },
      "outputs": [
        {
          "name": "stdout",
          "output_type": "stream",
          "text": [
            "Why did the person throw butter?\n",
            "\n",
            "They wanted to see a butter-fly!\n"
          ]
        }
      ],
      "source": [
        "joke_template = PromptTemplate(template=\"\"\"\n",
        "Give a {joke_type} on {subject}\n",
        "\"\"\", input_variables=[\"joke_type\", \"subject\"])\n",
        "\n",
        "chain = LLMChain(llm=llm, prompt=joke_template)\n",
        "\n",
        "joke = chain.run(joke_type=\"dadjoke\", subject=\"life\")\n",
        "\n",
        "print(joke)"
      ]
    },
    {
      "cell_type": "code",
      "execution_count": 46,
      "metadata": {
        "colab": {
          "base_uri": "https://localhost:8080/",
          "height": 86
        },
        "id": "Z70o92S81Q24",
        "outputId": "29cacad9-4408-41af-eaae-4b12d46d2a13"
      },
      "outputs": [
        {
          "data": {
            "text/markdown": [
              "> What do you call a snake that's always getting into trouble?\n",
              "> \n",
              "> A python in distress!"
            ],
            "text/plain": [
              "<IPython.core.display.Markdown object>"
            ]
          },
          "execution_count": 46,
          "metadata": {},
          "output_type": "execute_result"
        }
      ],
      "source": [
        "# LCEL\n",
        "chain = joke_template | llm\n",
        "\n",
        "to_markdown(chain.invoke({\"joke_type\":\"dadjoke\", \"subject\":\"python\"}).content)"
      ]
    },
    {
      "cell_type": "code",
      "execution_count": 56,
      "metadata": {
        "id": "eG8b5Q_I1mdt"
      },
      "outputs": [],
      "source": [
        "from langchain.prompts import ChatPromptTemplate\n",
        "from langchain.schema import StrOutputParser\n",
        "\n",
        "prompt = ChatPromptTemplate.from_messages(\n",
        "    [\n",
        "        (\n",
        "            \"system\",\n",
        "            \"\"\"I want you to act as a food critic.\n",
        "            I will tell you about a restaurant and you will provide a review of the food and service.\n",
        "            You should only reply with your review, and nothing else.\n",
        "            Do not write explanations.\"\"\",\n",
        "        ),\n",
        "        (\"human\", \"{question}\"),\n",
        "    ]\n",
        ")\n",
        "runnable = prompt | llm | StrOutputParser()"
      ]
    },
    {
      "cell_type": "code",
      "execution_count": 57,
      "metadata": {
        "id": "4VrISG9GINtb"
      },
      "outputs": [],
      "source": [
        "# SystemMessages are not yet supported! (So using convert_system_message_to_human)\n",
        "llm = ChatGoogleGenerativeAI(model=\"gemini-pro\", convert_system_message_to_human=True)"
      ]
    },
    {
      "cell_type": "code",
      "execution_count": 58,
      "metadata": {
        "colab": {
          "base_uri": "https://localhost:8080/"
        },
        "id": "cDgCysrY1pyh",
        "outputId": "2ac5ca55-60c5-43ad-8917-d652ee00d1de"
      },
      "outputs": [
        {
          "name": "stdout",
          "output_type": "stream",
          "text": [
            "In the heart of culinary adventure, where aromatic spices dance upon the palate, lies an Indian restaurant that has captured the essence of authenticity and elevated it to new heights.\n",
            "\n",
            "The menu, a symphony of flavors, offers an array of tantalizing dishes that pay homage to the rich traditions of India. Each dish is a masterpiece, crafted with meticulous care and an abundance of fresh, vibrant ingredients.\n",
            "\n",
            "The starters ignite the taste buds with their bold flavors and textures. The samosas, crisp and golden-brown, burst with a savory filling of spiced potatoes and peas. The pakoras, a medley of vegetables coated in a delicate batter, tantalize with their crunchiness and vibrant colors.\n",
            "\n",
            "As the main courses arrive, the air thickens with the heady scent of fragrant curries. The butter chicken, a classic dish, is a symphony of velvety richness, where tender chicken bathes in a creamy tomato sauce infused with a hint of sweetness. The lamb rogan josh, a fiery delight, showcases the bold flavors of North India, where tender lamb is slow-cooked in a spicy sauce that lingers on the palate.\n",
            "\n",
            "The accompaniments are equally impressive. The fluffy naan bread, cooked to perfection in a tandoor oven, provides the perfect vessel for soaking up every last drop of the flavorful curries. The fragrant basmati rice, cooked with aromatic spices, complements the dishes beautifully.\n",
            "\n",
            "The service is impeccable, with attentive staff who are knowledgeable about the menu and eager to recommend dishes that suit your preferences. The ambiance is warm and inviting, with traditional Indian music playing softly in the background.\n",
            "\n",
            "Overall, this Indian restaurant is a culinary haven that transports diners to the vibrant streets of India. The food is exceptional, the service impeccable, and the ambiance authentic. It is a destination that will leave a lasting impression on your palate and your memories."
          ]
        }
      ],
      "source": [
        "for chunk in runnable.stream({\"question\": \"Tell me about the Indian Resturant you visited last night\"}):\n",
        "    print(chunk, end=\"\", flush=True)"
      ]
    },
    {
      "cell_type": "code",
      "execution_count": 59,
      "metadata": {
        "id": "knlhHHCc8jMg"
      },
      "outputs": [],
      "source": [
        "!pip install translate -qU"
      ]
    },
    {
      "cell_type": "code",
      "execution_count": 60,
      "metadata": {
        "colab": {
          "base_uri": "https://localhost:8080/",
          "height": 35
        },
        "id": "6ONUh5Cm4rdv",
        "outputId": "eb46844e-f990-40ff-e143-9bb5b2f23bce"
      },
      "outputs": [
        {
          "data": {
            "application/vnd.google.colaboratory.intrinsic+json": {
              "type": "string"
            },
            "text/plain": [
              "\"{'translated_text': 'Ciao Mondo!'}\""
            ]
          },
          "execution_count": 60,
          "metadata": {},
          "output_type": "execute_result"
        }
      ],
      "source": [
        "from translate import Translator\n",
        "from langchain.schema import StrOutputParser\n",
        "\n",
        "def translate_func(text):\n",
        "    translator = Translator(to_lang=\"es\")\n",
        "    translated_text = translator.translate(text)\n",
        "    return {\"translated_text\": translated_text}\n",
        "\n",
        "prompt = PromptTemplate.from_template(\"\"\"\n",
        "Reply with the {translated_text}\n",
        "\"\"\")\n",
        "\n",
        "transform_chain = (\n",
        "    {\"translated_text\": lambda text: translate_func(text)}\n",
        "    | prompt\n",
        "    | llm\n",
        "    | StrOutputParser()\n",
        ")\n",
        "transform_chain.invoke(\"Hello World!\")"
      ]
    },
    {
      "cell_type": "markdown",
      "metadata": {
        "id": "N-mcq_hNzzdd"
      },
      "source": [
        "# Memory"
      ]
    },
    {
      "cell_type": "code",
      "execution_count": 61,
      "metadata": {
        "id": "MxroIXIozzFO"
      },
      "outputs": [],
      "source": [
        "from langchain.memory import ConversationBufferMemory"
      ]
    },
    {
      "cell_type": "code",
      "execution_count": 62,
      "metadata": {
        "id": "mGw4kz_cz5BH"
      },
      "outputs": [],
      "source": [
        "memory = ConversationBufferMemory(memory_key=\"chat_history\", return_messages=True)\n"
      ]
    },
    {
      "cell_type": "markdown",
      "metadata": {
        "id": "l2HqtX28CTgy"
      },
      "source": [
        "# Agents"
      ]
    },
    {
      "cell_type": "code",
      "execution_count": null,
      "metadata": {
        "id": "3pfCHg_e0Yes"
      },
      "outputs": [],
      "source": [
        "!pip install duckduckgo-search -q"
      ]
    },
    {
      "cell_type": "code",
      "execution_count": 65,
      "metadata": {
        "id": "WjVLDowUVLU5"
      },
      "outputs": [],
      "source": [
        "from langchain.agents import Tool\n",
        "from langchain.agents import AgentType\n",
        "from langchain.tools import DuckDuckGoSearchRun\n",
        "from langchain.agents import initialize_agent"
      ]
    },
    {
      "cell_type": "code",
      "execution_count": null,
      "metadata": {
        "id": "DtT8Y3pU0Ay1"
      },
      "outputs": [],
      "source": [
        "chat_llm = ChatGooglePalm(google_api_key=PLAM_API_KEY)"
      ]
    },
    {
      "cell_type": "code",
      "execution_count": 66,
      "metadata": {
        "id": "xzbz89Qq0Loi"
      },
      "outputs": [],
      "source": [
        "ddg = DuckDuckGoSearchRun()\n",
        "tools = [\n",
        "    Tool(\n",
        "        name=\"DDG Search\",\n",
        "        func=ddg.run,\n",
        "        description=\"Search DDG\"\n",
        "    ),\n",
        "]"
      ]
    },
    {
      "cell_type": "code",
      "execution_count": 68,
      "metadata": {
        "id": "yt6UFHlZ0uGV"
      },
      "outputs": [],
      "source": [
        "agent_chain = initialize_agent(tools,\n",
        "                               llm=llm,\n",
        "                               agent=AgentType.CHAT_CONVERSATIONAL_REACT_DESCRIPTION,\n",
        "                               verbose=True,\n",
        "                               memory=memory)"
      ]
    },
    {
      "cell_type": "code",
      "execution_count": 69,
      "metadata": {
        "colab": {
          "base_uri": "https://localhost:8080/",
          "height": 395
        },
        "id": "Ro6DXZKT0UoA",
        "outputId": "5d3b82d3-388c-42fc-a85f-2ad8f1c95380"
      },
      "outputs": [
        {
          "name": "stdout",
          "output_type": "stream",
          "text": [
            "\n",
            "\n",
            "\u001b[1m> Entering new AgentExecutor chain...\u001b[0m\n",
            "\u001b[32;1m\u001b[1;3m```json\n",
            "{\n",
            "    \"action\": \"DDG Search\",\n",
            "    \"action_input\": \"Hemanth HM\"\n",
            "}\n",
            "```\u001b[0m\n",
            "Observation: \u001b[36;1m\u001b[1;3mA computer polyglot CLI, web and FOSS philosopher. Google Developer Expert. Google LaunchPad Mentor Community leader @duckduckgo Delegate at @tc39 - hemanth hemanth.hm. Follow. Just another curious 🐜 Joined Dec 11, 2016. More from hemanth.hm. Updates from the 99th TC39 meeting Updates from the 98th TC39 meeting # javascript # tc39. Updates from the 97th TC39 meeting # javascript # news. DEV Community — A constructive and inclusive social network for software developers. With you every step of ... hemanth.hm. Follow. Just another curious 🐜 Joined Dec 11, 2016. More from hemanth.hm. Updates from the 97th TC39 meeting # javascript # news. Updates from the 96th TC39 meeting # tc39 # javascript # ecmascript. Updates from the 95th TC39 meeting # javascript. Once suspended, hemanth will not be able to comment or publish posts until their ... hemanth.hm. Follow. Just another curious 🐜 Joined Dec 11, 2016. More from hemanth.hm. Updates from the 98th TC39 meeting # javascript # tc39. Updates from the 96th TC39 meeting # tc39 # javascript # ecmascript. Updates from the 95th TC39 meeting # javascript. Once suspended, hemanth will not be able to comment or publish posts until their ... Contributed by Rafael Gonzaga and Hemanth HM in #51850. Loading and parsing environment variables. process.loadEnvFile(path): Use this function to load the .env file. If no path is specified, it automatically loads the .env file in the current directory. Example: process.loadEnvFile(). Load a specific .env file by specifying its path.\u001b[0m\n",
            "Thought:\u001b[32;1m\u001b[1;3m```json\n",
            "{\n",
            "    \"action\": \"Final Answer\",\n",
            "    \"action_input\": \"Hemanth HM is a computer polyglot CLI, web and FOSS philosopher. He is also a Google Developer Expert, Google LaunchPad Mentor and a Delegate at TC39.\"\n",
            "}\n",
            "```\u001b[0m\n",
            "\n",
            "\u001b[1m> Finished chain.\u001b[0m\n"
          ]
        },
        {
          "data": {
            "application/vnd.google.colaboratory.intrinsic+json": {
              "type": "string"
            },
            "text/plain": [
              "'Hemanth HM is a computer polyglot CLI, web and FOSS philosopher. He is also a Google Developer Expert, Google LaunchPad Mentor and a Delegate at TC39.'"
            ]
          },
          "execution_count": 69,
          "metadata": {},
          "output_type": "execute_result"
        }
      ],
      "source": [
        "agent_chain.run(input=\"Who is Hemanth HM?\")"
      ]
    },
    {
      "cell_type": "code",
      "execution_count": 70,
      "metadata": {
        "colab": {
          "base_uri": "https://localhost:8080/",
          "height": 377
        },
        "id": "2QB4osQU0_JR",
        "outputId": "5887e224-17ec-4b69-af36-48de559b6639"
      },
      "outputs": [
        {
          "name": "stdout",
          "output_type": "stream",
          "text": [
            "\n",
            "\n",
            "\u001b[1m> Entering new AgentExecutor chain...\u001b[0m\n",
            "\u001b[32;1m\u001b[1;3m```json\n",
            "{\n",
            "  \"action\": \"DDG Search\",\n",
            "  \"action_input\": \"What is Hemanth HM's website?\"\n",
            "}\n",
            "```\u001b[0m\n",
            "Observation: \u001b[36;1m\u001b[1;3mA computer polyglot CLI, web and FOSS philosopher. Google Developer Expert. Google LaunchPad Mentor Community leader @duckduckgo Delegate at @tc39 - hemanth hemanth.hm. Follow. Just another curious 🐜 Joined Dec 11, 2016. More from hemanth.hm. Updates from the 99th TC39 meeting Updates from the 98th TC39 meeting # javascript # tc39. Updates from the 97th TC39 meeting # javascript # news. DEV Community — A constructive and inclusive social network for software developers. With you every step of ... Hemanth HM. 05 Jun, 2023. Share. AI generated transcription, chapters and summary will be available later. ... Hola, JS Nation. ¿Qué hay de nuevo en Node? En esta charla, te mostraré algunas características de la versión 19 y algunas de la versión 18 y definitivamente muchas de la versión 20. La versión 20 de Node introduce características de permisos experimentales que te brindan control sobre el proceso. The H&M business model is one of a kind, focusing on what's fresh and trendy without breaking the bank. Founded in 1947 in Västerås, Sweden, by Erling Persson, H&M has become a staple in the closets of fashion-conscious folks all around the globe. You've probably seen an H&M store or browsed their website in your city.\u001b[0m\n",
            "Thought:\u001b[32;1m\u001b[1;3m```json\n",
            "{\n",
            "  \"action\": \"Final Answer\",\n",
            "  \"action_input\": \"Hemanth HM's website is https://hemanth.hm/\"\n",
            "}\n",
            "```\u001b[0m\n",
            "\n",
            "\u001b[1m> Finished chain.\u001b[0m\n"
          ]
        },
        {
          "data": {
            "application/vnd.google.colaboratory.intrinsic+json": {
              "type": "string"
            },
            "text/plain": [
              "\"Hemanth HM's website is https://hemanth.hm/\""
            ]
          },
          "execution_count": 70,
          "metadata": {},
          "output_type": "execute_result"
        }
      ],
      "source": [
        "agent_chain.run(input=\"What is his website?\")"
      ]
    },
    {
      "cell_type": "markdown",
      "metadata": {
        "id": "wrkVn-EWAKDC"
      },
      "source": [
        "# Langchain Experimental"
      ]
    },
    {
      "cell_type": "code",
      "execution_count": null,
      "metadata": {
        "id": "2jhjwknQ_XEF"
      },
      "outputs": [],
      "source": [
        "! pip install langchain langchain-experimental -q"
      ]
    },
    {
      "cell_type": "markdown",
      "metadata": {
        "id": "B6_3JASstRBW"
      },
      "source": [
        "## PALChain\n",
        "> Program-aided Language Models"
      ]
    },
    {
      "cell_type": "code",
      "execution_count": 72,
      "metadata": {
        "id": "H9Qa_6h99Zfp"
      },
      "outputs": [],
      "source": [
        "from langchain_experimental.pal_chain import PALChain\n"
      ]
    },
    {
      "cell_type": "code",
      "execution_count": 73,
      "metadata": {
        "colab": {
          "base_uri": "https://localhost:8080/",
          "height": 285
        },
        "id": "hykUZpJTtUDM",
        "outputId": "8c3754db-0bc5-49d5-9473-70bbb5b6aba5"
      },
      "outputs": [
        {
          "name": "stdout",
          "output_type": "stream",
          "text": [
            "\n",
            "\n",
            "\u001b[1m> Entering new PALChain chain...\u001b[0m\n"
          ]
        },
        {
          "name": "stderr",
          "output_type": "stream",
          "text": [
            "WARNING:langchain_community.utilities.python:Python REPL can execute arbitrary code. Use with caution.\n"
          ]
        },
        {
          "name": "stdout",
          "output_type": "stream",
          "text": [
            "\u001b[32;1m\u001b[1;3mdef solution():\n",
            "    \"\"\"\n",
            "    Jon is as twice old as Jim.\n",
            "    Five years ago, Jon was three times as old as Jim at that time.\n",
            "    How old are they now?\n",
            "    \"\"\"\n",
            "    # Let's assume Jim's current age is x.\n",
            "    jim_age_now = x\u001b[0m\n",
            "\n",
            "\u001b[1m> Finished chain.\u001b[0m\n"
          ]
        },
        {
          "data": {
            "application/vnd.google.colaboratory.intrinsic+json": {
              "type": "string"
            },
            "text/plain": [
              "'NameError(\"name \\'x\\' is not defined\")'"
            ]
          },
          "execution_count": 73,
          "metadata": {},
          "output_type": "execute_result"
        }
      ],
      "source": [
        "pal_chain = PALChain.from_math_prompt(llm, verbose=True)\n",
        "\n",
        "question = \"\"\"\n",
        "Jon is as twice old as Jim.\n",
        "Five years ago, Jon was three times as old as Jim at that time.\n",
        "How old are they now?\n",
        "\"\"\"\n",
        "\n",
        "pal_chain.run(question)"
      ]
    },
    {
      "cell_type": "code",
      "execution_count": 74,
      "metadata": {
        "colab": {
          "base_uri": "https://localhost:8080/",
          "height": 285
        },
        "id": "gv34YNjLuriF",
        "outputId": "fbd0de9b-951f-4f94-c657-ecb410311792"
      },
      "outputs": [
        {
          "name": "stdout",
          "output_type": "stream",
          "text": [
            "\n",
            "\n",
            "\u001b[1m> Entering new LLMBashChain chain...\u001b[0m\n",
            "Please write a bash script to print today's date in DD/MM/YYYY format and evaluate it\u001b[32;1m\u001b[1;3mI need to take the following actions:\n",
            "- Get the current date using the 'date' command\n",
            "- Use the 'sed' command to extract the date in DD/MM/YYYY format\n",
            "- Print the date using the 'echo' command\n",
            "```bash\n",
            "date | sed 's/^\\([[:digit:]]\\{2\\}\\)\\/\\([[:digit:]]\\{2\\}\\)\\/\\([[:digit:]]\\{4\\}\\).*/\\1\\/\\2\\/\\3/'\n",
            "```\u001b[0m\n",
            "Code: \u001b[33;1m\u001b[1;3m[\"date | sed 's/^\\\\([[:digit:]]\\\\{2\\\\}\\\\)\\\\/\\\\([[:digit:]]\\\\{2\\\\}\\\\)\\\\/\\\\([[:digit:]]\\\\{4\\\\}\\\\).*/\\\\1\\\\/\\\\2\\\\/\\\\3/'\"]\u001b[0m\n",
            "Answer: \u001b[33;1m\u001b[1;3mMon Mar 18 08:01:46 PM UTC 2024\n",
            "\u001b[0m\n",
            "\u001b[1m> Finished chain.\u001b[0m\n"
          ]
        },
        {
          "data": {
            "application/vnd.google.colaboratory.intrinsic+json": {
              "type": "string"
            },
            "text/plain": [
              "'Mon Mar 18 08:01:46 PM UTC 2024\\n'"
            ]
          },
          "execution_count": 74,
          "metadata": {},
          "output_type": "execute_result"
        }
      ],
      "source": [
        "from langchain_experimental.llm_bash.base import LLMBashChain\n",
        "\n",
        "text = \"Please write a bash script to print today's date in DD/MM/YYYY format and evaluate it\"\n",
        "\n",
        "bash_chain = LLMBashChain.from_llm(llm, verbose=True)\n",
        "\n",
        "bash_chain.run(text)"
      ]
    }
  ],
  "metadata": {
    "colab": {
      "name": "PaLM2 + Langchain",
      "provenance": []
    },
    "kernelspec": {
      "display_name": "Python 3",
      "name": "python3"
    },
    "language_info": {
      "name": "python",
      "version": "3.10.13"
    }
  },
  "nbformat": 4,
  "nbformat_minor": 0
}
